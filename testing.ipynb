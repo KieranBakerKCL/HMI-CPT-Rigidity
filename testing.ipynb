{
 "cells": [
  {
   "cell_type": "markdown",
   "metadata": {},
   "source": [
    "# Rigidity Calculation Logic\n",
    "\n",
    "This notebook details the logical steps in converting a rigidity file to the rigidity results"
   ]
  },
  {
   "cell_type": "markdown",
   "metadata": {},
   "source": [
    "Firstly we import the required libraries:"
   ]
  },
  {
   "cell_type": "code",
   "execution_count": 183,
   "metadata": {},
   "outputs": [],
   "source": [
    "import pandas as pd\n",
    "import numpy as np"
   ]
  },
  {
   "cell_type": "markdown",
   "metadata": {},
   "source": [
    "Read in the data - it will need to be converted from a `.psd` file into a `.txt` file"
   ]
  },
  {
   "cell_type": "code",
   "execution_count": 184,
   "metadata": {},
   "outputs": [],
   "source": [
    "data = pd.read_csv('p1350101l.txt', skiprows=2, sep='\\t')"
   ]
  },
  {
   "cell_type": "markdown",
   "metadata": {},
   "source": [
    "Now we reformat the data:\n",
    "* Channel A is proportional to the Torque measured by the machine\n",
    "* Channel B is proportional to the degree of rotation measured by the machine"
   ]
  },
  {
   "cell_type": "code",
   "execution_count": 185,
   "metadata": {},
   "outputs": [
    {
     "data": {
      "text/html": [
       "<div>\n",
       "<style scoped>\n",
       "    .dataframe tbody tr th:only-of-type {\n",
       "        vertical-align: middle;\n",
       "    }\n",
       "\n",
       "    .dataframe tbody tr th {\n",
       "        vertical-align: top;\n",
       "    }\n",
       "\n",
       "    .dataframe thead th {\n",
       "        text-align: right;\n",
       "    }\n",
       "</style>\n",
       "<table border=\"1\" class=\"dataframe\">\n",
       "  <thead>\n",
       "    <tr style=\"text-align: right;\">\n",
       "      <th></th>\n",
       "      <th>Time</th>\n",
       "      <th>Channel B</th>\n",
       "      <th>Channel A</th>\n",
       "    </tr>\n",
       "  </thead>\n",
       "  <tbody>\n",
       "    <tr>\n",
       "      <th>0</th>\n",
       "      <td>0</td>\n",
       "      <td>-152</td>\n",
       "      <td>199</td>\n",
       "    </tr>\n",
       "    <tr>\n",
       "      <th>1</th>\n",
       "      <td>31</td>\n",
       "      <td>-189</td>\n",
       "      <td>245</td>\n",
       "    </tr>\n",
       "    <tr>\n",
       "      <th>2</th>\n",
       "      <td>62</td>\n",
       "      <td>-227</td>\n",
       "      <td>299</td>\n",
       "    </tr>\n",
       "    <tr>\n",
       "      <th>3</th>\n",
       "      <td>93</td>\n",
       "      <td>-256</td>\n",
       "      <td>335</td>\n",
       "    </tr>\n",
       "    <tr>\n",
       "      <th>4</th>\n",
       "      <td>125</td>\n",
       "      <td>-295</td>\n",
       "      <td>338</td>\n",
       "    </tr>\n",
       "    <tr>\n",
       "      <th>...</th>\n",
       "      <td>...</td>\n",
       "      <td>...</td>\n",
       "      <td>...</td>\n",
       "    </tr>\n",
       "    <tr>\n",
       "      <th>1361</th>\n",
       "      <td>45630</td>\n",
       "      <td>-630</td>\n",
       "      <td>148</td>\n",
       "    </tr>\n",
       "    <tr>\n",
       "      <th>1362</th>\n",
       "      <td>45661</td>\n",
       "      <td>-629</td>\n",
       "      <td>191</td>\n",
       "    </tr>\n",
       "    <tr>\n",
       "      <th>1363</th>\n",
       "      <td>45692</td>\n",
       "      <td>-628</td>\n",
       "      <td>210</td>\n",
       "    </tr>\n",
       "    <tr>\n",
       "      <th>1364</th>\n",
       "      <td>45724</td>\n",
       "      <td>-629</td>\n",
       "      <td>201</td>\n",
       "    </tr>\n",
       "    <tr>\n",
       "      <th>1365</th>\n",
       "      <td>45755</td>\n",
       "      <td>-629</td>\n",
       "      <td>180</td>\n",
       "    </tr>\n",
       "  </tbody>\n",
       "</table>\n",
       "<p>1366 rows × 3 columns</p>\n",
       "</div>"
      ],
      "text/plain": [
       "       Time Channel B Channel A\n",
       "0         0      -152       199\n",
       "1        31      -189       245\n",
       "2        62      -227       299\n",
       "3        93      -256       335\n",
       "4       125      -295       338\n",
       "...     ...       ...       ...\n",
       "1361  45630      -630       148\n",
       "1362  45661      -629       191\n",
       "1363  45692      -628       210\n",
       "1364  45724      -629       201\n",
       "1365  45755      -629       180\n",
       "\n",
       "[1366 rows x 3 columns]"
      ]
     },
     "execution_count": 185,
     "metadata": {},
     "output_type": "execute_result"
    }
   ],
   "source": [
    "chanb_index = data.loc[data['Time'] == 'Channel B'].index[0]\n",
    "chana_df=data.iloc[1:chanb_index]\n",
    "chanb_df=data.iloc[chanb_index+3:len(data)]\n",
    "all_df = chana_df.copy()\n",
    "all_df.columns = ['Time', 'Channel A']\n",
    "all_df['Channel B'] = chanb_df[' Value'].values\n",
    "all_df = all_df[['Time', 'Channel B', 'Channel A']].reset_index(drop=True)\n",
    "all_df"
   ]
  },
  {
   "cell_type": "markdown",
   "metadata": {},
   "source": [
    "Scalings are required to recover the Torque in mNm, and the Deviation in degrees.\n",
    "\n",
    "Torque $t$ from observations in channel $a$:\n",
    "$$t = \\frac{4256.6 a - 211.64}{1000} $$\n",
    "\n",
    "Deviation $d$ from observations in channel $b$: \n",
    "$$d = \\frac{40}{1400}b - \\frac{40}{14} $$"
   ]
  },
  {
   "cell_type": "code",
   "execution_count": 186,
   "metadata": {},
   "outputs": [
    {
     "name": "stderr",
     "output_type": "stream",
     "text": [
      "/var/folders/qp/723wnmwx4sbbcgxfnsdr9wyr0000gn/T/ipykernel_11665/1812090070.py:3: SettingWithCopyWarning: \n",
      "A value is trying to be set on a copy of a slice from a DataFrame.\n",
      "Try using .loc[row_indexer,col_indexer] = value instead\n",
      "\n",
      "See the caveats in the documentation: https://pandas.pydata.org/pandas-docs/stable/user_guide/indexing.html#returning-a-view-versus-a-copy\n",
      "  convert_df['Channel B'] = pd.to_numeric(convert_df['Channel B'])\n"
     ]
    },
    {
     "data": {
      "text/html": [
       "<div>\n",
       "<style scoped>\n",
       "    .dataframe tbody tr th:only-of-type {\n",
       "        vertical-align: middle;\n",
       "    }\n",
       "\n",
       "    .dataframe tbody tr th {\n",
       "        vertical-align: top;\n",
       "    }\n",
       "\n",
       "    .dataframe thead th {\n",
       "        text-align: right;\n",
       "    }\n",
       "</style>\n",
       "<table border=\"1\" class=\"dataframe\">\n",
       "  <thead>\n",
       "    <tr style=\"text-align: right;\">\n",
       "      <th></th>\n",
       "      <th>Time</th>\n",
       "      <th>Channel B</th>\n",
       "      <th>Torque (mNm)</th>\n",
       "      <th>Deviation (Degrees)</th>\n",
       "    </tr>\n",
       "  </thead>\n",
       "  <tbody>\n",
       "    <tr>\n",
       "      <th>0</th>\n",
       "      <td>0</td>\n",
       "      <td>-152</td>\n",
       "      <td>846.85176</td>\n",
       "      <td>-7.200000</td>\n",
       "    </tr>\n",
       "    <tr>\n",
       "      <th>1</th>\n",
       "      <td>31</td>\n",
       "      <td>-189</td>\n",
       "      <td>1042.65536</td>\n",
       "      <td>-8.257143</td>\n",
       "    </tr>\n",
       "    <tr>\n",
       "      <th>2</th>\n",
       "      <td>62</td>\n",
       "      <td>-227</td>\n",
       "      <td>1272.51176</td>\n",
       "      <td>-9.342857</td>\n",
       "    </tr>\n",
       "    <tr>\n",
       "      <th>3</th>\n",
       "      <td>93</td>\n",
       "      <td>-256</td>\n",
       "      <td>1425.74936</td>\n",
       "      <td>-10.171429</td>\n",
       "    </tr>\n",
       "    <tr>\n",
       "      <th>4</th>\n",
       "      <td>125</td>\n",
       "      <td>-295</td>\n",
       "      <td>1438.51916</td>\n",
       "      <td>-11.285714</td>\n",
       "    </tr>\n",
       "    <tr>\n",
       "      <th>...</th>\n",
       "      <td>...</td>\n",
       "      <td>...</td>\n",
       "      <td>...</td>\n",
       "      <td>...</td>\n",
       "    </tr>\n",
       "    <tr>\n",
       "      <th>1361</th>\n",
       "      <td>45630</td>\n",
       "      <td>-630</td>\n",
       "      <td>629.76516</td>\n",
       "      <td>-20.857143</td>\n",
       "    </tr>\n",
       "    <tr>\n",
       "      <th>1362</th>\n",
       "      <td>45661</td>\n",
       "      <td>-629</td>\n",
       "      <td>812.79896</td>\n",
       "      <td>-20.828571</td>\n",
       "    </tr>\n",
       "    <tr>\n",
       "      <th>1363</th>\n",
       "      <td>45692</td>\n",
       "      <td>-628</td>\n",
       "      <td>893.67436</td>\n",
       "      <td>-20.800000</td>\n",
       "    </tr>\n",
       "    <tr>\n",
       "      <th>1364</th>\n",
       "      <td>45724</td>\n",
       "      <td>-629</td>\n",
       "      <td>855.36496</td>\n",
       "      <td>-20.828571</td>\n",
       "    </tr>\n",
       "    <tr>\n",
       "      <th>1365</th>\n",
       "      <td>45755</td>\n",
       "      <td>-629</td>\n",
       "      <td>765.97636</td>\n",
       "      <td>-20.828571</td>\n",
       "    </tr>\n",
       "  </tbody>\n",
       "</table>\n",
       "<p>1366 rows × 4 columns</p>\n",
       "</div>"
      ],
      "text/plain": [
       "       Time  Channel B  Torque (mNm)  Deviation (Degrees)\n",
       "0         0       -152     846.85176            -7.200000\n",
       "1        31       -189    1042.65536            -8.257143\n",
       "2        62       -227    1272.51176            -9.342857\n",
       "3        93       -256    1425.74936           -10.171429\n",
       "4       125       -295    1438.51916           -11.285714\n",
       "...     ...        ...           ...                  ...\n",
       "1361  45630       -630     629.76516           -20.857143\n",
       "1362  45661       -629     812.79896           -20.828571\n",
       "1363  45692       -628     893.67436           -20.800000\n",
       "1364  45724       -629     855.36496           -20.828571\n",
       "1365  45755       -629     765.97636           -20.828571\n",
       "\n",
       "[1366 rows x 4 columns]"
      ]
     },
     "execution_count": 186,
     "metadata": {},
     "output_type": "execute_result"
    }
   ],
   "source": [
    "convert_df = all_df[['Time', 'Channel B']]\n",
    "convert_df.reset_index(inplace=True, drop=True)\n",
    "convert_df['Channel B'] = pd.to_numeric(convert_df['Channel B'])\n",
    "convert_df['Torque (mNm)'] = all_df['Channel A'].apply(lambda x: (4256.6 * float(x) - 211.64)/1000)\n",
    "convert_df['Deviation (Degrees)'] = all_df['Channel B'].apply(lambda x: float(x)*(40/1400)-(40/14))\n",
    "convert_df"
   ]
  },
  {
   "cell_type": "markdown",
   "metadata": {},
   "source": [
    "Next, blocks of observations containing significant change to the Torque observed are identified. That is where we have sets 4 consecutive observations which pairwaise differ by $>5$ or $<-5$. We collect all these blocks together."
   ]
  },
  {
   "cell_type": "code",
   "execution_count": 187,
   "metadata": {},
   "outputs": [],
   "source": [
    "convert_df['Cond1'] = False\n",
    "convert_df['Cond2'] = False\n",
    "\n",
    "# Identify blocks which satisfy the condition specified above\n",
    "\n",
    "for i in [x+1 for x in range(len(convert_df)-3)]:\n",
    "    vals = convert_df.loc[i-1:i+2,'Channel B']\n",
    "    if sum(vals.diff().dropna().values<-5) == 3:\n",
    "        convert_df.at[i, 'Cond1'] = True\n",
    "    if sum(vals.diff().dropna().values>5) == 3:\n",
    "        convert_df.at[i, 'Cond2'] = True\n",
    "\n",
    "# Collect these blocks together in a nested list\n",
    "\n",
    "in_block = False\n",
    "block1_dct = {}\n",
    "for i in range(len(convert_df)):\n",
    "    val = convert_df.at[i, 'Cond1']\n",
    "    if not in_block:\n",
    "        if val:\n",
    "            in_block = True\n",
    "            index = i\n",
    "    if in_block:\n",
    "        if not val:\n",
    "            block1_dct[index] = i\n",
    "            in_block = False\n",
    "\n",
    "in_block = False\n",
    "block2_dct = {}\n",
    "for i in range(len(convert_df)):\n",
    "    val = convert_df.at[i, 'Cond2']\n",
    "    if not in_block:\n",
    "        if val:\n",
    "            in_block = True\n",
    "            index = i\n",
    "    if in_block:\n",
    "        if not val:\n",
    "            block2_dct[index] = i\n",
    "            in_block = False\n",
    "\n",
    "cond1_blocks = [list(convert_df['Torque (mNm)'][k:v]) for k,v in block1_dct.items()]\n",
    "cond2_blocks = [list(convert_df['Torque (mNm)'][k:v]) for k,v in block2_dct.items()]"
   ]
  },
  {
   "cell_type": "markdown",
   "metadata": {},
   "source": [
    "For each of these, we collect the number of observations, average, and final recorded Torque of each block. We ignore blocks which are of a significantly different length to the others. That is, consider a set of $k$ blocks $b_1, b_2, ..., b_k$ of lengths $n_1, n_2, ..., n_k$ respectively. Let $$\\bar{n} = k^{-1}\\sum_{i=1}^k n_i$$ be the average block length. Then only blocks satisfying $$|n_i - \\bar{n}| < 6$$ are used."
   ]
  },
  {
   "cell_type": "code",
   "execution_count": 188,
   "metadata": {},
   "outputs": [],
   "source": [
    "b1_counts = [len(x) for x in cond1_blocks]\n",
    "b1_avgs = [np.average(x) for x in cond1_blocks]\n",
    "b1_fin_vals = [x[len(x)-1] for x in cond1_blocks]\n",
    "b1_to_maintain = list(abs(b1_counts-np.average(b1_counts))<6)\n",
    "\n",
    "filt_b1_avgs = [x for x, flag in zip(b1_avgs, b1_to_maintain) if flag]\n",
    "filt_b1_fin_vals = [x for x, flag in zip(b1_fin_vals, b1_to_maintain) if flag]\n",
    "\n",
    "b2_counts = [len(x) for x in cond2_blocks]\n",
    "b2_avgs = [np.average(x) for x in cond2_blocks]\n",
    "b2_fin_vals = [x[len(x)-1] for x in cond2_blocks]\n",
    "b2_to_maintain = list(abs(b2_counts-np.average(b2_counts))<6)\n",
    "\n",
    "filt_b2_avgs = [x for x, flag in zip(b2_avgs, b2_to_maintain) if flag]\n",
    "filt_b2_fin_vals = [x for x, flag in zip(b2_fin_vals, b2_to_maintain) if flag]\n"
   ]
  },
  {
   "cell_type": "markdown",
   "metadata": {},
   "source": [
    "Finally for each type of block, the average of averages, standard deviation of averages, average final value, and standard deviation of final values is recorded. "
   ]
  },
  {
   "cell_type": "code",
   "execution_count": 189,
   "metadata": {},
   "outputs": [],
   "source": [
    "green_res = {\n",
    "    'G Mean': np.average(filt_b1_avgs),\n",
    "    'SD Gmean': np.std(filt_b1_avgs, ddof=1),\n",
    "    'End Mean': np.average(filt_b1_fin_vals),\n",
    "    'SD Emean': np.std(filt_b1_fin_vals, ddof=1)\n",
    "}\n",
    "\n",
    "red_res = {\n",
    "    'G Mean': np.average(filt_b2_avgs),\n",
    "    'SD Gmean': np.std(filt_b2_avgs, ddof=1),\n",
    "    'End Mean': np.average(filt_b2_fin_vals),\n",
    "    'SD Emean': np.std(filt_b2_fin_vals, ddof=1)\n",
    "}\n",
    "\n",
    "other_outputs = [\n",
    "    np.max(convert_df.loc[convert_df['Cond1']]['Torque (mNm)']),\n",
    "    np.average(convert_df.loc[convert_df['Cond1']]['Torque (mNm)']),\n",
    "    np.max(convert_df.loc[convert_df['Cond2']]['Torque (mNm)']),\n",
    "    np.average(convert_df.loc[convert_df['Cond2']]['Torque (mNm)'])\n",
    "]\n"
   ]
  },
  {
   "cell_type": "code",
   "execution_count": 190,
   "metadata": {},
   "outputs": [
    {
     "name": "stdout",
     "output_type": "stream",
     "text": [
      "Green Values:\n",
      "{'G Mean': 720.6947849314053, 'SD Gmean': 51.70469089950321, 'End Mean': 1044.78366, 'SD Emean': 108.21192399667821}\n",
      "\n",
      "\n",
      " Red Values:\n",
      "{'G Mean': 76.99427724137931, 'SD Gmean': 28.9167481599348, 'End Mean': 91.837335, 'SD Emean': 133.69746636925953}\n"
     ]
    }
   ],
   "source": [
    "print('Green Values:')\n",
    "print(green_res)\n",
    "print('\\n\\n Red Values:')\n",
    "print(red_res)"
   ]
  },
  {
   "cell_type": "markdown",
   "metadata": {},
   "source": [
    "# Testing rigidity.py\n",
    "\n",
    "Testing of the `RigidityProcessor` class is below."
   ]
  },
  {
   "cell_type": "code",
   "execution_count": 1,
   "metadata": {},
   "outputs": [],
   "source": [
    "from rigidity import RigidityProcessor"
   ]
  },
  {
   "cell_type": "code",
   "execution_count": 3,
   "metadata": {},
   "outputs": [
    {
     "name": "stderr",
     "output_type": "stream",
     "text": [
      "/Users/kieranbaker/Documents/HMI-CPT-Rigidity/rigidity.py:24: SettingWithCopyWarning: \n",
      "A value is trying to be set on a copy of a slice from a DataFrame.\n",
      "Try using .loc[row_indexer,col_indexer] = value instead\n",
      "\n",
      "See the caveats in the documentation: https://pandas.pydata.org/pandas-docs/stable/user_guide/indexing.html#returning-a-view-versus-a-copy\n",
      "  convert_df['Channel B'] = pd.to_numeric(convert_df['Channel B'])\n"
     ]
    }
   ],
   "source": [
    "Rig = RigidityProcessor(filepath = 'p1350101l.txt')\n",
    "Rig.get_rigidity_results()\n",
    "print('Green Values:')\n",
    "print(Rig.green_results)\n",
    "print('\\n\\n Red Values:')\n",
    "print(Rig.red_results)"
   ]
  },
  {
   "cell_type": "code",
   "execution_count": 5,
   "metadata": {},
   "outputs": [
    {
     "name": "stdout",
     "output_type": "stream",
     "text": [
      "Green Values:\n",
      "{'G Mean': 720.6947849314053, 'SD Gmean': 51.70469089950321, 'End Mean': 1044.78366, 'SD Emean': 108.21192399667821}\n",
      "\n",
      "\n",
      " Red Values:\n",
      "{'G Mean': 76.99427724137931, 'SD Gmean': 28.9167481599348, 'End Mean': 91.837335, 'SD Emean': 133.69746636925953}\n"
     ]
    }
   ],
   "source": []
  }
 ],
 "metadata": {
  "kernelspec": {
   "display_name": "base",
   "language": "python",
   "name": "python3"
  },
  "language_info": {
   "codemirror_mode": {
    "name": "ipython",
    "version": 3
   },
   "file_extension": ".py",
   "mimetype": "text/x-python",
   "name": "python",
   "nbconvert_exporter": "python",
   "pygments_lexer": "ipython3",
   "version": "3.12.4"
  }
 },
 "nbformat": 4,
 "nbformat_minor": 2
}
